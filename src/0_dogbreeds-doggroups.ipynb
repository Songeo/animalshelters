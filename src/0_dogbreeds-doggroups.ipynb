{
 "cells": [
  {
   "cell_type": "markdown",
   "metadata": {},
   "source": [
    "# Dog breeds => dog groups\n",
    "\n",
    "By Andras\n",
    "\n",
    "<https://www.kaggle.com/andraszsom/shelter-animal-outcomes/dog-breeds-dog-groups>"
   ]
  },
  {
   "cell_type": "code",
   "execution_count": 86,
   "metadata": {
    "collapsed": false
   },
   "outputs": [],
   "source": [
    "import pandas as pd\n",
    "import numpy as np\n",
    "import matplotlib.pyplot as plt\n",
    "import matplotlib\n",
    "from matplotlib import gridspec\n",
    "%matplotlib inline\n",
    "matplotlib.rcParams.update({'font.size': 12})"
   ]
  },
  {
   "cell_type": "code",
   "execution_count": 87,
   "metadata": {
    "collapsed": false
   },
   "outputs": [],
   "source": [
    "#import numpy;numpy.__version__"
   ]
  },
  {
   "cell_type": "code",
   "execution_count": 88,
   "metadata": {
    "collapsed": false
   },
   "outputs": [
    {
     "name": "stdout",
     "output_type": "stream",
     "text": [
      "  AnimalID     Name             DateTime      OutcomeType OutcomeSubtype  \\\n",
      "0  A671945  Hambone  2014-02-12 18:22:00  Return_to_owner            NaN   \n",
      "1  A656520    Emily  2013-10-13 12:44:00       Euthanasia      Suffering   \n",
      "2  A686464   Pearce  2015-01-31 12:28:00         Adoption         Foster   \n",
      "3  A683430      NaN  2014-07-11 19:09:00         Transfer        Partner   \n",
      "4  A667013      NaN  2013-11-15 12:52:00         Transfer        Partner   \n",
      "\n",
      "  AnimalType SexuponOutcome AgeuponOutcome                        Breed  \\\n",
      "0        Dog  Neutered Male         1 year        Shetland Sheepdog Mix   \n",
      "1        Cat  Spayed Female         1 year       Domestic Shorthair Mix   \n",
      "2        Dog  Neutered Male        2 years                 Pit Bull Mix   \n",
      "3        Cat    Intact Male        3 weeks       Domestic Shorthair Mix   \n",
      "4        Dog  Neutered Male        2 years  Lhasa Apso/Miniature Poodle   \n",
      "\n",
      "         Color  \n",
      "0  Brown/White  \n",
      "1  Cream Tabby  \n",
      "2   Blue/White  \n",
      "3   Blue Cream  \n",
      "4          Tan  \n",
      "(26729, 10)\n",
      "26729\n"
     ]
    }
   ],
   "source": [
    "# read the data\n",
    "df = pd.read_csv('../data/train.csv', sep=',')\n",
    "\n",
    "print(df.head())\n",
    "print(df.shape)\n",
    "print(len(np.unique(df['AnimalID'])))\n",
    "\n",
    "feature = 'Breed'\n",
    "\n",
    "feature_values_dog = df.loc[df['AnimalType'] == 'Dog',feature]\n",
    "outcome_dog = df.loc[df['AnimalType'] == 'Dog','OutcomeType']\n",
    "outcome_dog = np.array(outcome_dog)\n",
    "\n",
    "# unique outcomes:\n",
    "unique_outcomes = np.unique(outcome_dog)"
   ]
  },
  {
   "cell_type": "code",
   "execution_count": 89,
   "metadata": {
    "collapsed": true
   },
   "outputs": [],
   "source": [
    "# read in a csv file about breeds and the group they belong to\n",
    "#breeds_group = np.array(pd.read_csv('breed_info/dog_groups.csv', sep=','))\n",
    "\n",
    "# Unfortunately I don't know how to upload my csv file to kaggle, so I include it below as a string list.\n",
    "\n",
    "breeds = ['Blue Lacy','Queensland Heeler','Rhod Ridgeback','Retriever','Chinese Sharpei','Black Mouth Cur','Catahoula','Staffordshire','Affenpinscher','Afghan Hound','Airedale Terrier','Akita','Australian Kelpie','Alaskan Malamute','English Bulldog','American Bulldog','American English Coonhound','American Eskimo Dog (Miniature)','American Eskimo Dog (Standard)','American Eskimo Dog (Toy)','American Foxhound','American Hairless Terrier','American Staffordshire Terrier','American Water Spaniel','Anatolian Shepherd Dog','Australian Cattle Dog','Australian Shepherd','Australian Terrier','Basenji','Basset Hound','Beagle','Bearded Collie','Beauceron','Bedlington Terrier','Belgian Malinois','Belgian Sheepdog','Belgian Tervuren','Bergamasco','Berger Picard','Bernese Mountain Dog','Bichon Fris_','Black and Tan Coonhound','Black Russian Terrier','Bloodhound','Bluetick Coonhound','Boerboel','Border Collie','Border Terrier','Borzoi','Boston Terrier','Bouvier des Flandres','Boxer','Boykin Spaniel','Briard','Brittany','Brussels Griffon','Bull Terrier','Bull Terrier (Miniature)','Bulldog','Bullmastiff','Cairn Terrier','Canaan Dog','Cane Corso','Cardigan Welsh Corgi','Cavalier King Charles Spaniel','Cesky Terrier','Chesapeake Bay Retriever','Chihuahua','Chinese Crested Dog','Chinese Shar Pei','Chinook','Chow Chow',\"Cirneco dell'Etna\",'Clumber Spaniel','Cocker Spaniel','Collie','Coton de Tulear','Curly-Coated Retriever','Dachshund','Dalmatian','Dandie Dinmont Terrier','Doberman Pinsch','Doberman Pinscher','Dogue De Bordeaux','English Cocker Spaniel','English Foxhound','English Setter','English Springer Spaniel','English Toy Spaniel','Entlebucher Mountain Dog','Field Spaniel','Finnish Lapphund','Finnish Spitz','Flat-Coated Retriever','French Bulldog','German Pinscher','German Shepherd','German Shorthaired Pointer','German Wirehaired Pointer','Giant Schnauzer','Glen of Imaal Terrier','Golden Retriever','Gordon Setter','Great Dane','Great Pyrenees','Greater Swiss Mountain Dog','Greyhound','Harrier','Havanese','Ibizan Hound','Icelandic Sheepdog','Irish Red and White Setter','Irish Setter','Irish Terrier','Irish Water Spaniel','Irish Wolfhound','Italian Greyhound','Japanese Chin','Keeshond','Kerry Blue Terrier','Komondor','Kuvasz','Labrador Retriever','Lagotto Romagnolo','Lakeland Terrier','Leonberger','Lhasa Apso','L_wchen','Maltese','Manchester Terrier','Mastiff','Miniature American Shepherd','Miniature Bull Terrier','Miniature Pinscher','Miniature Schnauzer','Neapolitan Mastiff','Newfoundland','Norfolk Terrier','Norwegian Buhund','Norwegian Elkhound','Norwegian Lundehund','Norwich Terrier','Nova Scotia Duck Tolling Retriever','Old English Sheepdog','Otterhound','Papillon','Parson Russell Terrier','Pekingese','Pembroke Welsh Corgi','Petit Basset Griffon Vend_en','Pharaoh Hound','Plott','Pointer','Polish Lowland Sheepdog','Pomeranian','Standard Poodle','Miniature Poodle','Toy Poodle','Portuguese Podengo Pequeno','Portuguese Water Dog','Pug','Puli','Pyrenean Shepherd','Rat Terrier','Redbone Coonhound','Rhodesian Ridgeback','Rottweiler','Russell Terrier','St. Bernard','Saluki','Samoyed','Schipperke','Scottish Deerhound','Scottish Terrier','Sealyham Terrier','Shetland Sheepdog','Shiba Inu','Shih Tzu','Siberian Husky','Silky Terrier','Skye Terrier','Sloughi','Smooth Fox Terrier','Soft-Coated Wheaten Terrier','Spanish Water Dog','Spinone Italiano','Staffordshire Bull Terrier','Standard Schnauzer','Sussex Spaniel','Swedish Vallhund','Tibetan Mastiff','Tibetan Spaniel','Tibetan Terrier','Toy Fox Terrier','Treeing Walker Coonhound','Vizsla','Weimaraner','Welsh Springer Spaniel','Welsh Terrier','West Highland White Terrier','Whippet','Wire Fox Terrier','Wirehaired Pointing Griffon','Wirehaired Vizsla','Xoloitzcuintli','Yorkshire Terrier']\n",
    "groups = ['Herding','Herding','Hound','Sporting','Non-Sporting','Herding','Herding','Terrier','Toy','Hound','Terrier','Working','Working','Working','Non-Sporting','Non-Sporting','Hound','Non-Sporting','Non-Sporting','Toy','Hound','Terrier','Terrier','Sporting','Working','Herding','Herding','Terrier','Hound','Hound','Hound','Herding','Herding','Terrier','Herding','Herding','Herding','Herding','Herding','Working','Non-Sporting','Hound','Working','Hound','Hound','Working','Herding','Terrier','Hound','Non-Sporting','Herding','Working','Sporting','Herding','Sporting','Toy','Terrier','Terrier','Non-Sporting','Working','Terrier','Working','Working','Herding','Toy','Terrier','Sporting','Toy','Toy','Non-Sporting','Working','Non-Sporting','Hound','Sporting','Sporting','Herding','Non-Sporting','Sporting','Hound','Non-Sporting','Terrier','Working','Working','Working','Sporting','Hound','Sporting','Sporting','Toy','Herding','Sporting','Herding','Non-Sporting','Sporting','Non-Sporting','Working','Herding','Sporting','Sporting','Working','Terrier','Sporting','Sporting','Working','Working','Working','Hound','Hound','Toy','Hound','Herding','Sporting','Sporting','Terrier','Sporting','Hound','Toy','Toy','Non-Sporting','Terrier','Working','Working','Sporting','Sporting','Terrier','Working','Non-Sporting','Non-Sporting','Toy','Terrier','Working','Herding','Terrier','Toy','Terrier','Working','Working','Terrier','Herding','Hound','Non-Sporting','Terrier','Sporting','Herding','Hound','Toy','Terrier','Toy','Herding','Hound','Hound','Hound','Sporting','Herding','Toy','Non-Sporting','Non-Sporting','Toy','Hound','Working','Toy','Herding','Herding','Terrier','Hound','Hound','Working','Terrier','Working','Hound','Working','Non-Sporting','Hound','Terrier','Terrier','Herding','Non-Sporting','Toy','Working','Toy','Terrier','Hound','Terrier','Terrier','Herding','Sporting','Terrier','Working','Sporting','Herding','Working','Non-Sporting','Non-Sporting','Toy','Hound','Sporting','Sporting','Sporting','Terrier','Terrier','Hound','Terrier','Sporting','Sporting','Non-Sporting','Toy']\n",
    "\n",
    "breeds_group = np.array([breeds,groups]).T\n",
    "dog_groups = np.unique(breeds_group[:,1])"
   ]
  },
  {
   "cell_type": "code",
   "execution_count": 90,
   "metadata": {
    "collapsed": false
   },
   "outputs": [
    {
     "data": {
      "text/plain": [
       "0                Shetland Sheepdog Mix\n",
       "2                         Pit Bull Mix\n",
       "4          Lhasa Apso/Miniature Poodle\n",
       "5    Cairn Terrier/Chihuahua Shorthair\n",
       "8        American Pit Bull Terrier Mix\n",
       "Name: Breed, dtype: object"
      ]
     },
     "execution_count": 90,
     "metadata": {},
     "output_type": "execute_result"
    }
   ],
   "source": [
    "feature_values_dog.head()"
   ]
  },
  {
   "cell_type": "code",
   "execution_count": 91,
   "metadata": {
    "collapsed": false
   },
   "outputs": [],
   "source": [
    "# Convert the breed string into group lists\n",
    "\n",
    "group_values_dog = []\n",
    "count = 0\n",
    "not_found = []\n",
    "\n",
    "for i in feature_values_dog:\n",
    "    i = i.replace(' Shorthair','')\n",
    "    i = i.replace(' Longhair','')\n",
    "    i = i.replace(' Wirehair','')\n",
    "    i = i.replace(' Rough','')\n",
    "    i = i.replace(' Smooth Coat','')\n",
    "    i = i.replace(' Smooth','')\n",
    "    i = i.replace(' Black/Tan','')\n",
    "    i = i.replace('Black/Tan ','')\n",
    "    i = i.replace(' Flat Coat','')\n",
    "    i = i.replace('Flat Coat ','')\n",
    "    i = i.replace(' Coat','')\n",
    "    \n",
    "    groups = []\n",
    "    if '/' in i:\n",
    "        split_i = i.split('/')\n",
    "        for j in split_i:\n",
    "            if j[-3:] == 'Mix':\n",
    "                breed = j[:-4]               \n",
    "                if breed in breeds_group[:,0]:\n",
    "                    indx = np.where(breeds_group[:,0] == breed)[0]\n",
    "                    groups.append(breeds_group[indx,1][0])\n",
    "                    groups.append('Mix')\n",
    "                elif np.any([s.lower() in breed.lower() for s in dog_groups]):\n",
    "                    find_group = [s if s.lower() in breed.lower() else 'Unknown' for s in dog_groups]                    \n",
    "                    groups.append(find_group[find_group != 'Unknown'])\n",
    "                    groups.append('Mix')  \n",
    "                elif breed == 'Pit Bull':\n",
    "                    groupd.append('Pit Bull')\n",
    "                    groups.append('Mix')  \n",
    "                elif 'Shepherd' in breed:\n",
    "                    groups.append('Herding')\n",
    "                    groups.append('Mix')  \n",
    "                else:\n",
    "                    not_found.append(breed)\n",
    "                    groups.append('Unknown')\n",
    "                    groups.append('Mix')\n",
    "            else:\n",
    "                if j in breeds_group[:,0]:\n",
    "                    indx = np.where(breeds_group[:,0] == j)[0]\n",
    "                    groups.append(breeds_group[indx,1][0])\n",
    "                elif np.any([s.lower() in j.lower() for s in dog_groups]):\n",
    "                    find_group = [s if s.lower() in j.lower() else 'Unknown' for s in dog_groups]                    \n",
    "                    groups.append(find_group[find_group != 'Unknown'])\n",
    "                elif j == 'Pit Bull':\n",
    "                    groups.append('Pit Bull')\n",
    "                elif 'Shepherd' in j:\n",
    "                    groups.append('Herding')\n",
    "                    groups.append('Mix')  \n",
    "                else:\n",
    "                    not_found.append(j)\n",
    "                    groups.append('Unknown')\n",
    "    else:\n",
    "        if i[-3:] == 'Mix':\n",
    "            breed = i[:-4]\n",
    "            if breed in breeds_group[:,0]:\n",
    "                indx = np.where(breeds_group[:,0] == breed)[0]\n",
    "                groups.append(breeds_group[indx,1][0])\n",
    "                groups.append('Mix')\n",
    "            elif np.any([s.lower() in breed.lower() for s in dog_groups]):\n",
    "                find_group = [s if s.lower() in breed.lower() else 'Unknown' for s in dog_groups]                    \n",
    "                groups.append(find_group[find_group != 'Unknown'])\n",
    "                groups.append('Mix') \n",
    "            elif breed == 'Pit Bull':\n",
    "                groups.append('Pit Bull')\n",
    "                groups.append('Mix') \n",
    "            elif 'Shepherd' in breed:\n",
    "                groups.append('Herding')\n",
    "                groups.append('Mix')  \n",
    "            else:\n",
    "                groups.append('Unknown')\n",
    "                groups.append('Mix') \n",
    "                not_found.append(breed)\n",
    "\n",
    "        else:\n",
    "            if i in breeds_group[:,0]:\n",
    "                indx = np.where(breeds_group[:,0] == i)[0]\n",
    "                groups.append(breeds_group[indx,1][0])\n",
    "            elif np.any([s.lower() in i.lower() for s in dog_groups]):\n",
    "                find_group = [s if s.lower() in i.lower() else 'Unknown' for s in dog_groups]                    \n",
    "                groups.append(find_group[find_group != 'Unknown'])\n",
    "            elif i == 'Pit Bull':\n",
    "                groups.append('Pit Bull')\n",
    "            elif 'Shepherd' in i:\n",
    "                groups.append('Herding')\n",
    "                groups.append('Mix') \n",
    "            else:\n",
    "                groups.append('Unknown') \n",
    "                not_found.append(i)\n",
    "    group_values_dog.append(list(set(groups)))\n"
   ]
  },
  {
   "cell_type": "code",
   "execution_count": 92,
   "metadata": {
    "collapsed": false
   },
   "outputs": [
    {
     "data": {
      "text/plain": [
       "['Mix', 'Herding']"
      ]
     },
     "execution_count": 92,
     "metadata": {},
     "output_type": "execute_result"
    }
   ],
   "source": [
    "len(group_values_dog)\n",
    "group_values_dog[0]"
   ]
  },
  {
   "cell_type": "code",
   "execution_count": 93,
   "metadata": {
    "collapsed": false
   },
   "outputs": [
    {
     "data": {
      "text/plain": [
       "'Shetland Sheepdog Mix'"
      ]
     },
     "execution_count": 93,
     "metadata": {},
     "output_type": "execute_result"
    }
   ],
   "source": [
    "len(feature_values_dog)\n",
    "feature_values_dog[0]"
   ]
  },
  {
   "cell_type": "code",
   "execution_count": 94,
   "metadata": {
    "collapsed": false
   },
   "outputs": [
    {
     "data": {
      "text/plain": [
       "(array(['Alaskan Husky', 'American Eskimo', 'Bedlington Terr',\n",
       "        'Bichon Frise', 'Boykin Span', 'Bruss Griffon', 'Carolina Dog',\n",
       "        'Cavalier Span', 'Chesa Bay Retr', 'Chinese Crested',\n",
       "        'Dogo Argentino', 'English Pointer', 'Entlebucher', 'Feist',\n",
       "        'German Pointer', 'Germaned Pointer', 'Glen Of Imaal', 'Hovawart',\n",
       "        'Jindo', 'Landseer', 'Lowchen', 'Mexican Hairless',\n",
       "        'Old English Bulldog', 'Patterdale Terr', 'Pbgv',\n",
       "        'Picardy Sheepdog', 'Podengo Pequeno', 'Port Water Dog',\n",
       "        'Presa Canario', 'Schnauzer Giant', 'Sealyham Terr',\n",
       "        'Spanish Mastiff', 'Treeing Cur', 'Treeing Tennesse Brindle',\n",
       "        'Unknown', 'West Highland', 'Yorkshire'], \n",
       "       dtype='|S24'),\n",
       " array([26, 14,  3, 22,  4, 28, 49, 19, 14,  5, 17, 18,  1,  6, 25,  5,  4,\n",
       "         1,  3,  6,  1,  1,  3,  6, 15,  3,  5,  2,  3,  5,  1,  1,  4,  1,\n",
       "         3, 26,  1]))"
      ]
     },
     "execution_count": 94,
     "metadata": {},
     "output_type": "execute_result"
    }
   ],
   "source": [
    "not_f_unique, counts = np.unique(not_found,return_counts=True)\n",
    "unique_groups, counts = np.unique(group_values_dog,return_counts=True)\n",
    "\n",
    "# add mix, pit bull, and unknown to the groups\n",
    "np.unique(not_found,return_counts=True)"
   ]
  },
  {
   "cell_type": "code",
   "execution_count": 128,
   "metadata": {
    "collapsed": false
   },
   "outputs": [
    {
     "name": "stdout",
     "output_type": "stream",
     "text": [
      "15595\n",
      "15595\n"
     ]
    }
   ],
   "source": [
    "print len(df.loc[df['AnimalType'] == 'Dog', 'AnimalID'])\n",
    "print len(feature_values_dog)"
   ]
  },
  {
   "cell_type": "code",
   "execution_count": 150,
   "metadata": {
    "collapsed": false
   },
   "outputs": [],
   "source": [
    "col2 = []\n",
    "for a in group_values_dog:\n",
    "    if len(a) == 1:\n",
    "        col2.append(a[0])\n",
    "    else:\n",
    "        col2.append(a[1])"
   ]
  },
  {
   "cell_type": "code",
   "execution_count": 154,
   "metadata": {
    "collapsed": false
   },
   "outputs": [],
   "source": [
    "d = { 'AnimalID':df.loc[df['AnimalType'] == 'Dog', 'AnimalID'],\n",
    "     'features_values_dog' : feature_values_dog,\n",
    "    'gp1': [a[0] for a in group_values_dog],\n",
    "    'gp2': col2}\n",
    "df_recode = pd.DataFrame(d)"
   ]
  },
  {
   "cell_type": "code",
   "execution_count": 155,
   "metadata": {
    "collapsed": false
   },
   "outputs": [
    {
     "data": {
      "text/html": [
       "<div>\n",
       "<table border=\"1\" class=\"dataframe\">\n",
       "  <thead>\n",
       "    <tr style=\"text-align: right;\">\n",
       "      <th></th>\n",
       "      <th>AnimalID</th>\n",
       "      <th>features_values_dog</th>\n",
       "      <th>gp1</th>\n",
       "      <th>gp2</th>\n",
       "    </tr>\n",
       "  </thead>\n",
       "  <tbody>\n",
       "    <tr>\n",
       "      <th>0</th>\n",
       "      <td>A671945</td>\n",
       "      <td>Shetland Sheepdog Mix</td>\n",
       "      <td>Mix</td>\n",
       "      <td>Herding</td>\n",
       "    </tr>\n",
       "    <tr>\n",
       "      <th>2</th>\n",
       "      <td>A686464</td>\n",
       "      <td>Pit Bull Mix</td>\n",
       "      <td>Mix</td>\n",
       "      <td>Pit Bull</td>\n",
       "    </tr>\n",
       "    <tr>\n",
       "      <th>4</th>\n",
       "      <td>A667013</td>\n",
       "      <td>Lhasa Apso/Miniature Poodle</td>\n",
       "      <td>Non-Sporting</td>\n",
       "      <td>Non-Sporting</td>\n",
       "    </tr>\n",
       "    <tr>\n",
       "      <th>5</th>\n",
       "      <td>A677334</td>\n",
       "      <td>Cairn Terrier/Chihuahua Shorthair</td>\n",
       "      <td>Toy</td>\n",
       "      <td>Terrier</td>\n",
       "    </tr>\n",
       "    <tr>\n",
       "      <th>8</th>\n",
       "      <td>A671784</td>\n",
       "      <td>American Pit Bull Terrier Mix</td>\n",
       "      <td>Unknown</td>\n",
       "      <td>Mix</td>\n",
       "    </tr>\n",
       "  </tbody>\n",
       "</table>\n",
       "</div>"
      ],
      "text/plain": [
       "  AnimalID                features_values_dog           gp1           gp2\n",
       "0  A671945              Shetland Sheepdog Mix           Mix       Herding\n",
       "2  A686464                       Pit Bull Mix           Mix      Pit Bull\n",
       "4  A667013        Lhasa Apso/Miniature Poodle  Non-Sporting  Non-Sporting\n",
       "5  A677334  Cairn Terrier/Chihuahua Shorthair           Toy       Terrier\n",
       "8  A671784      American Pit Bull Terrier Mix       Unknown           Mix"
      ]
     },
     "execution_count": 155,
     "metadata": {},
     "output_type": "execute_result"
    }
   ],
   "source": [
    "df_recode.head()"
   ]
  },
  {
   "cell_type": "code",
   "execution_count": 159,
   "metadata": {
    "collapsed": false
   },
   "outputs": [],
   "source": [
    "df_recode.to_csv(path_or_buf=\"../doc/breedgroups_andras.csv\", index = False)"
   ]
  },
  {
   "cell_type": "code",
   "execution_count": null,
   "metadata": {
    "collapsed": true
   },
   "outputs": [],
   "source": []
  },
  {
   "cell_type": "code",
   "execution_count": 160,
   "metadata": {
    "collapsed": true
   },
   "outputs": [],
   "source": [
    "# Calculate rates of different outcomes\n",
    "\n",
    "outcome_contours = np.zeros([len(unique_outcomes),len(groups),len(groups)])\n",
    "outcome_counts = np.zeros([len(unique_outcomes),len(groups),len(groups)])\n",
    "\n",
    "for i in range(len(groups)):\n",
    "    for j in range(i+1):\n",
    "        if i == j:\n",
    "            denominator = group_values_dog.count([groups[i]])\n",
    "            indices = [k for k, x in enumerate(group_values_dog) if x == [groups[i]]]\n",
    "            \n",
    "            sublist = [outcome_dog[ind] for ind in indices]\n",
    "            \n",
    "            for k in range(len(unique_outcomes)):\n",
    "                numerator = sublist.count(unique_outcomes[k])\n",
    "                outcome_counts[k,i,j] = denominator\n",
    "                if denominator > 0:\n",
    "                    outcome_contours[k,i,j] = 1e0 * numerator/denominator\n",
    "                else:\n",
    "                    outcome_contours[k,i,j] = 0e0\n",
    "            \n",
    "        else:\n",
    "            denominator = group_values_dog.count([groups[i],groups[j]])\n",
    "            denominator += group_values_dog.count([groups[j],groups[i]])\n",
    "            indices = [k for k, x in enumerate(group_values_dog) if x == [groups[i],groups[j]]]\n",
    "            indices += [k for k, x in enumerate(group_values_dog) if x == [groups[j],groups[i]]]\n",
    "            \n",
    "            sublist = [outcome_dog[ind] for ind in indices]\n",
    "            \n",
    "            for k in range(len(unique_outcomes)):\n",
    "                numerator = sublist.count(unique_outcomes[k])\n",
    "                outcome_counts[k,i,j] = denominator\n",
    "                outcome_counts[k,j,i] = denominator\n",
    "                if denominator > 0:\n",
    "                    outcome_contours[k,i,j] = 1e0 * numerator/denominator\n",
    "                    outcome_contours[k,j,i] = 1e0 * numerator/denominator\n",
    "                else:\n",
    "                    outcome_contours[k,i,j] = 0e0            \n",
    "                    outcome_contours[k,j,i] = 0e0        "
   ]
  },
  {
   "cell_type": "code",
   "execution_count": null,
   "metadata": {
    "collapsed": true
   },
   "outputs": [],
   "source": []
  },
  {
   "cell_type": "code",
   "execution_count": 161,
   "metadata": {
    "collapsed": false
   },
   "outputs": [
    {
     "ename": "TypeError",
     "evalue": "only integer arrays with one element can be converted to an index",
     "output_type": "error",
     "traceback": [
      "\u001b[0;31m---------------------------------------------------------------------------\u001b[0m",
      "\u001b[0;31mTypeError\u001b[0m                                 Traceback (most recent call last)",
      "\u001b[0;32m<ipython-input-161-dd55d88103b0>\u001b[0m in \u001b[0;36m<module>\u001b[0;34m()\u001b[0m\n\u001b[1;32m     23\u001b[0m \u001b[0mplt1\u001b[0m\u001b[0;34m,\u001b[0m \u001b[0;34m=\u001b[0m \u001b[0mplt\u001b[0m\u001b[0;34m.\u001b[0m\u001b[0mplot\u001b[0m\u001b[0;34m(\u001b[0m\u001b[0mnp\u001b[0m\u001b[0;34m.\u001b[0m\u001b[0marange\u001b[0m\u001b[0;34m(\u001b[0m\u001b[0;34m-\u001b[0m\u001b[0;36m1\u001b[0m\u001b[0;34m,\u001b[0m\u001b[0mlen\u001b[0m\u001b[0;34m(\u001b[0m\u001b[0mgroups\u001b[0m\u001b[0;34m)\u001b[0m\u001b[0;34m+\u001b[0m\u001b[0;36m1\u001b[0m\u001b[0;34m)\u001b[0m\u001b[0;34m,\u001b[0m\u001b[0mnp\u001b[0m\u001b[0;34m.\u001b[0m\u001b[0mzeros\u001b[0m\u001b[0;34m(\u001b[0m\u001b[0mlen\u001b[0m\u001b[0;34m(\u001b[0m\u001b[0mgroups\u001b[0m\u001b[0;34m)\u001b[0m\u001b[0;34m+\u001b[0m\u001b[0;36m2\u001b[0m\u001b[0;34m)\u001b[0m\u001b[0;34m+\u001b[0m\u001b[0mavg_adoption\u001b[0m\u001b[0;34m)\u001b[0m\u001b[0;34m\u001b[0m\u001b[0m\n\u001b[1;32m     24\u001b[0m \u001b[0mplt\u001b[0m\u001b[0;34m.\u001b[0m\u001b[0mlegend\u001b[0m\u001b[0;34m(\u001b[0m\u001b[0;34m[\u001b[0m\u001b[0mplt1\u001b[0m\u001b[0;34m,\u001b[0m\u001b[0mplt2\u001b[0m\u001b[0;34m]\u001b[0m\u001b[0;34m,\u001b[0m\u001b[0;34m[\u001b[0m\u001b[0;34m'total average adoption rate'\u001b[0m\u001b[0;34m,\u001b[0m\u001b[0;34m'adoption rate per group'\u001b[0m\u001b[0;34m]\u001b[0m\u001b[0;34m,\u001b[0m\u001b[0mloc\u001b[0m\u001b[0;34m=\u001b[0m\u001b[0;36m4\u001b[0m\u001b[0;34m)\u001b[0m\u001b[0;34m\u001b[0m\u001b[0m\n\u001b[0;32m---> 25\u001b[0;31m \u001b[0mplt\u001b[0m\u001b[0;34m.\u001b[0m\u001b[0mxticks\u001b[0m\u001b[0;34m(\u001b[0m\u001b[0mrange\u001b[0m\u001b[0;34m(\u001b[0m\u001b[0mlen\u001b[0m\u001b[0;34m(\u001b[0m\u001b[0mgroups\u001b[0m\u001b[0;34m)\u001b[0m\u001b[0;34m)\u001b[0m\u001b[0;34m,\u001b[0m \u001b[0mgroups\u001b[0m\u001b[0;34m[\u001b[0m\u001b[0marg_sort\u001b[0m\u001b[0;34m]\u001b[0m\u001b[0;34m,\u001b[0m \u001b[0mrotation\u001b[0m\u001b[0;34m=\u001b[0m\u001b[0;34m'vertical'\u001b[0m\u001b[0;34m)\u001b[0m\u001b[0;34m\u001b[0m\u001b[0m\n\u001b[0m\u001b[1;32m     26\u001b[0m \u001b[0mplt\u001b[0m\u001b[0;34m.\u001b[0m\u001b[0mtight_layout\u001b[0m\u001b[0;34m(\u001b[0m\u001b[0;34m)\u001b[0m\u001b[0;34m\u001b[0m\u001b[0m\n\u001b[1;32m     27\u001b[0m \u001b[0mplt\u001b[0m\u001b[0;34m.\u001b[0m\u001b[0msavefig\u001b[0m\u001b[0;34m(\u001b[0m\u001b[0;34m'groups-vs-adoption.jpg'\u001b[0m\u001b[0;34m,\u001b[0m\u001b[0mdpi\u001b[0m\u001b[0;34m=\u001b[0m\u001b[0;36m150\u001b[0m\u001b[0;34m)\u001b[0m\u001b[0;34m\u001b[0m\u001b[0m\n",
      "\u001b[0;31mTypeError\u001b[0m: only integer arrays with one element can be converted to an index"
     ]
    },
    {
     "data": {
      "image/png": "[encoded data removed]",
      "text/plain": [
       "<matplotlib.figure.Figure at 0x11b9302d0>"
      ]
     },
     "metadata": {},
     "output_type": "display_data"
    }
   ],
   "source": [
    "# First plot on adoption rates\n",
    "\n",
    "avg_adoption = np.average(outcome_contours[0,:,:],weights=outcome_counts[0,:,:])                \n",
    "avg_adoption_group = np.average(outcome_contours[0,:,:],weights=outcome_counts[0,:,:],axis=0)\n",
    "arg_sort = np.argsort(avg_adoption_group)\n",
    "avg_count = np.sum(outcome_counts[0,:,:],axis=0)\n",
    "\n",
    "plt.figure(figsize=(6,6))\n",
    "\n",
    "plt.subplot(2,1,1)\n",
    "plt.xlim([-0.5,len(groups)-0.5])\n",
    "plt.yscale('log')\n",
    "plt2, = plt.plot(avg_count[arg_sort],'+',mew=2,markersize=10)\n",
    "plt.ylabel('log10( nr. of dogs )')\n",
    "plt.xticks(range(len(groups)),'')\n",
    "\n",
    "\n",
    "plt.subplot(2,1,2)\n",
    "plt.xlim([-0.5,len(groups)-0.5])\n",
    "plt.xlabel('Groups')\n",
    "plt.ylabel('Adoption rate')\n",
    "plt2, = plt.plot(avg_adoption_group[arg_sort],'+',mew=2,markersize=10)\n",
    "plt1, = plt.plot(np.arange(-1,len(groups)+1),np.zeros(len(groups)+2)+avg_adoption)\n",
    "plt.legend([plt1,plt2],['total average adoption rate','adoption rate per group'],loc=4)\n",
    "plt.xticks(range(len(groups)), groups[arg_sort], rotation='vertical')\n",
    "plt.tight_layout()\n",
    "plt.savefig('groups-vs-adoption.jpg',dpi=150)\n",
    "plt.show()\n",
    "plt.close()"
   ]
  },
  {
   "cell_type": "code",
   "execution_count": 59,
   "metadata": {
    "collapsed": false
   },
   "outputs": [
    {
     "data": {
      "image/png": "[encoded data removed]",
      "text/plain": [
       "<matplotlib.figure.Figure at 0x1197553d0>"
      ]
     },
     "metadata": {},
     "output_type": "display_data"
    }
   ],
   "source": [
    "# Second plot on adoption rates\n",
    "\n",
    "plt.figure(figsize=(10,6))\n",
    "gs = gridspec.GridSpec(1, 2, width_ratios=[1.45, 1]) \n",
    "\n",
    "plt.subplot(gs[0])\n",
    "plt.title('Adoption rate')\n",
    "ax1 = plt.imshow(np.ma.masked_array(outcome_contours[0,:,:],(outcome_contours[0,:,:] >= avg_adoption)),interpolation='nearest',cmap='Blues_r')\n",
    "cb1 = plt.colorbar(ax1,shrink=.5, pad=.15, aspect=15)\n",
    "cb1.set_label('Below average adoption rates')\n",
    "ax2 = plt.imshow(np.ma.masked_array(outcome_contours[0,:,:],(outcome_contours[0,:,:] < avg_adoption)),interpolation='nearest',cmap='Reds')\n",
    "cb2 = plt.colorbar(ax2,shrink=.5, aspect=15)\n",
    "cb2.set_label('Above average adoption rates')\n",
    "plt.xticks(range(len(groups)), groups, rotation='vertical')\n",
    "plt.yticks(range(len(groups)), groups)\n",
    "\n",
    "plt.subplot(gs[1])\n",
    "\n",
    "outcome_counts[0,:,:][outcome_counts[0,:,:] == 0] = 0.1\n",
    "plt.title('Nr. of dogs')\n",
    "plt.imshow(np.log10(outcome_counts[0,:,:]),interpolation='nearest',cmap='afmhot',vmin=0e0)\n",
    "plt.xticks(range(len(groups)), groups, rotation='vertical')\n",
    "plt.yticks(range(len(groups)), groups)\n",
    "cb3 = plt.colorbar(shrink=.5, aspect=15)\n",
    "cb3.set_label('log10( nr. of dogs )')\n",
    "plt.tight_layout()\n",
    "plt.savefig('groups-vs-adoption_grid.jpg',dpi=150)\n",
    "plt.show()\n",
    "plt.close()"
   ]
  },
  {
   "cell_type": "code",
   "execution_count": null,
   "metadata": {
    "collapsed": true
   },
   "outputs": [],
   "source": []
  }
 ],
 "metadata": {
  "kernelspec": {
   "display_name": "Python 2",
   "language": "python",
   "name": "python2"
  },
  "language_info": {
   "codemirror_mode": {
    "name": "ipython",
    "version": 2
   },
   "file_extension": ".py",
   "mimetype": "text/x-python",
   "name": "python",
   "nbconvert_exporter": "python",
   "pygments_lexer": "ipython2",
   "version": "2.7.12"
  }
 },
 "nbformat": 4,
 "nbformat_minor": 1
}
